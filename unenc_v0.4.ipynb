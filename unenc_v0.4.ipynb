{
 "cells": [
  {
   "cell_type": "markdown",
   "id": "983b098f-96d8-4b39-bd8e-52d1fbc56ccb",
   "metadata": {},
   "source": [
    "# Unencoded baseline plots, devel version 0.4"
   ]
  },
  {
   "cell_type": "markdown",
   "id": "07efd430-150e-486f-96f2-eb56148d7e03",
   "metadata": {
    "jp-MarkdownHeadingCollapsed": true
   },
   "source": [
    "## Setup"
   ]
  },
  {
   "cell_type": "code",
   "execution_count": null,
   "id": "f88cb3c4-5a4c-41e5-920b-18226d3f3f81",
   "metadata": {},
   "outputs": [],
   "source": [
    "v = 'v0.4'\n",
    "rslts_dir = 'results_unenc'\n",
    "encdg_stts_ttl = ', unencoded'\n",
    "encdg_stts_nam = 'unencoded'"
   ]
  },
  {
   "cell_type": "code",
   "execution_count": null,
   "id": "f9c42a50-2207-47b9-871d-bbbc2344592d",
   "metadata": {
    "scrolled": true
   },
   "outputs": [],
   "source": [
    "import pandas as pd\n",
    "import numpy as np\n",
    "\n",
    "import umap\n",
    "from sklearn.preprocessing import StandardScaler\n",
    "import seaborn as sns\n",
    "import matplotlib.pyplot as plt\n",
    "\n",
    "from sklearn.linear_model import LogisticRegression\n",
    "from sklearn.metrics import classification_report, f1_score\n",
    "\n",
    "from scipy.spatial.distance import euclidean\n",
    "from matplotlib.colors import ListedColormap\n",
    "from joypy import joyplot"
   ]
  },
  {
   "cell_type": "code",
   "execution_count": null,
   "id": "7043f2fd-18cd-4e7d-a4c2-9b0e5ebfe420",
   "metadata": {},
   "outputs": [],
   "source": [
    "grey_colors = pd.read_csv('plot_color_files/grey_scale.tsv', sep = '\\t', index_col = 0)"
   ]
  },
  {
   "cell_type": "code",
   "execution_count": null,
   "id": "29639769-da12-4d1c-be39-36471bfac5b3",
   "metadata": {},
   "outputs": [],
   "source": [
    "cancer_type_abbreviation_mapping = {\n",
    "    'Clear cell renal cell carcinoma': 'KIRCKICH', # combined-in chromophobe\n",
    "    'Colon adenocarcinoma': 'COADREAD', # combined-in rectal adeno\n",
    "    'Pancreatic ductal adenocarcinoma': 'PAAD',\n",
    "    'Breast carcinoma': 'BRCA',\n",
    "    'Glioblastoma': 'LGGGBM', # combined-in low grade glioma\n",
    "    'Lung squamous cell carcinoma': 'LUSC',\n",
    "    'Lung adenocarcinoma': 'LUAD',\n",
    "    'Endometrial carcinoma': 'UCEC',\n",
    "    'Head and neck squamous cell carcinoma': 'HNSC',\n",
    "    'Ovarian carcinoma': 'OV'\n",
    "}"
   ]
  },
  {
   "cell_type": "code",
   "execution_count": null,
   "id": "5aa3eb4a-02de-45a8-aea9-618334169d66",
   "metadata": {},
   "outputs": [],
   "source": [
    "latent_dim = 'NaN'\n",
    "epochs = '0'"
   ]
  },
  {
   "cell_type": "code",
   "execution_count": null,
   "id": "1dc6a60d-2394-4b83-b015-c3dba5732374",
   "metadata": {},
   "outputs": [],
   "source": [
    "latent_dim, epochs"
   ]
  },
  {
   "cell_type": "code",
   "execution_count": null,
   "id": "aebd620f-4dd2-4b12-8595-242d35735674",
   "metadata": {},
   "outputs": [],
   "source": [
    "mdls_ttl = 'Cell line + CPTAC'\n",
    "mdls = 'cptac_+_cell_line'"
   ]
  },
  {
   "cell_type": "code",
   "execution_count": null,
   "id": "dc64a231-96fa-4180-8450-3f0b3b4b1ae3",
   "metadata": {},
   "outputs": [],
   "source": [
    "file = 'cl_cp_prot_850.tsv'"
   ]
  },
  {
   "cell_type": "code",
   "execution_count": null,
   "id": "d61f436d-2219-449c-a531-9d40425f3fc9",
   "metadata": {},
   "outputs": [],
   "source": [
    "dta_ttl = 'proteomics'\n",
    "dta_typ = 'prot'\n",
    "dta_typ_obj = pd.read_csv('data/cl_cp_prot_850.tsv', # insert file\n",
    "                   sep = '\\t', index_col = 0)\n",
    "dta_typ_obj.shape"
   ]
  },
  {
   "cell_type": "markdown",
   "id": "f4d53335-c491-4e17-84f8-36c977164c6f",
   "metadata": {
    "jp-MarkdownHeadingCollapsed": true
   },
   "source": [
    "## UMAP #1"
   ]
  },
  {
   "cell_type": "code",
   "execution_count": null,
   "id": "65754af0-db39-42b3-8cce-c6a86b79e1ed",
   "metadata": {},
   "outputs": [],
   "source": [
    "dta_typ_obj.head(1) # Sample IDs as index"
   ]
  },
  {
   "cell_type": "code",
   "execution_count": null,
   "id": "aab67836-3c9b-4b37-b2ad-648e22b4cb4a",
   "metadata": {},
   "outputs": [],
   "source": [
    "reducer = umap.UMAP(n_components=2)\n",
    "scaled_data = StandardScaler().fit_transform(dta_typ_obj.iloc[:, 2:])\n",
    "embedding = reducer.fit_transform(scaled_data)\n",
    "emb_df = pd.DataFrame(embedding, index = dta_typ_obj.index)\n",
    "emb_lbld = pd.concat([emb_df, dta_typ_obj[['cancer_type', 'model_type']]], axis = 1)\n",
    "emb_lbld.columns = ['UMAP_1', 'UMAP_2', 'cancer_type', 'model_type']"
   ]
  },
  {
   "cell_type": "code",
   "execution_count": null,
   "id": "2c118125-89eb-4c96-a7c2-5876eb0cfb3f",
   "metadata": {},
   "outputs": [],
   "source": [
    "# Check plot labeling and file naming vars\n",
    "mdls_ttl, dta_ttl, dta_typ, mdls"
   ]
  },
  {
   "cell_type": "code",
   "execution_count": null,
   "id": "cd203692-d2c1-404a-9b8f-bb08baa8f123",
   "metadata": {},
   "outputs": [],
   "source": [
    "def umap_plot_to_disk(emb_lbld, mdls_ttl, dta_ttl, dta_typ, mdls):\n",
    "    tcga_colors = pd.read_csv('plot_color_files/tcga_colors.tsv', sep = '\\t', index_col = 0)\n",
    "    unique_cancer_types = emb_lbld['cancer_type'].unique()\n",
    "    custom_palette = {cancer_type: tcga_colors.loc[cancer_type_abbreviation_mapping.get(\n",
    "        cancer_type, 'Unknown'), 'cohort_color'] for cancer_type in unique_cancer_types}\n",
    "    emb_lbld.columns = ['UMAP_1', 'UMAP_2', 'Cancer type', 'Model type'] # Re-run reducer\n",
    "    plt.figure(figsize=(5, 5))                                           # for iterations\n",
    "    marker_dict = {'Tumor': '^', 'cell line': 'o'}\n",
    "    sns.scatterplot(data=emb_lbld, x='UMAP_1', y='UMAP_2',\n",
    "                    hue='Cancer type', style='Model type', markers=marker_dict,\n",
    "                    palette=custom_palette, legend='full',\n",
    "                    s = 200)\n",
    "    plt.xlabel('UMAP_2', fontsize=16)\n",
    "    plt.ylabel('UMAP_2', fontsize=16)\n",
    "    plt.legend(title='Cancer Type', loc='upper left', bbox_to_anchor=(1, 1))\n",
    "    plt.suptitle(mdls_ttl +', '+ dta_ttl, y = 1.002, fontsize = 20)\n",
    "    plt.title('n = '+str(len(emb_lbld))+encdg_stts_ttl, fontsize = 18)\n",
    "    legend = plt.legend(title='Sample attributes', title_fontsize='14', loc='upper left',\n",
    "                        bbox_to_anchor=(1, 1), fontsize=12)\n",
    "    headers_to_bold = ['Cancer type', 'Model type']\n",
    "    for text in legend.texts:\n",
    "        if text.get_text() in headers_to_bold:\n",
    "            text.set_weight('bold')\n",
    "    plt.rcParams['text.usetex'] = True\n",
    "    plt.savefig(rslts_dir+'/umap_'+dta_typ+'_'+mdls+'_'+encdg_stts_nam+'_'+v+'.png',\n",
    "                bbox_inches = 'tight', dpi = 300)\n",
    "    return 'UMAP written to disk'\n",
    "umap_plot_to_disk(emb_lbld, mdls_ttl, dta_ttl, dta_typ, mdls)"
   ]
  },
  {
   "cell_type": "markdown",
   "id": "22bc145d-1acd-4936-abc2-ade5905e4d8b",
   "metadata": {
    "jp-MarkdownHeadingCollapsed": true
   },
   "source": [
    "## LogReg function"
   ]
  },
  {
   "cell_type": "code",
   "execution_count": null,
   "id": "596d0d64-a88e-48ad-bf0f-9d34a0cbe2ef",
   "metadata": {},
   "outputs": [],
   "source": [
    "# Model is model type or cancer type\n",
    "def log_reg(dta_typ_obj, mode):\n",
    "    col_X_strt = 2 # <-- Skip label columns\n",
    "    f1_stor_frm = pd.DataFrame()\n",
    "\n",
    "    # Logistic regression repeat loop\n",
    "    for i in list(range(0, 15)): # <-- Error control\n",
    "\n",
    "        # Train test split\n",
    "        trn = dta_typ_obj.sample(round(len(dta_typ_obj) * .8))\n",
    "        tst = dta_typ_obj.loc[~dta_typ_obj.index.isin(trn.index)]\n",
    "    \n",
    "        X_trn = trn.iloc[:, col_X_strt:]\n",
    "        X_tst = tst.iloc[:, col_X_strt:]\n",
    "\n",
    "        # Prediction targets, y is either model system or cancer type\n",
    "        y_trn = trn[mode]\n",
    "        y_tst = tst[mode]\n",
    "        \n",
    "        clf = LogisticRegression().fit(X_trn, y_trn)\n",
    "        y_pred = clf.predict(X_tst)\n",
    "        \n",
    "        f1_by_class = f1_score(y_tst, y_pred, average=None)\n",
    "        f1_df = pd.DataFrame({'Label': list(y_tst.unique()),\n",
    "                              'F1_Score': f1_by_class})\n",
    "        f1_stor_frm = pd.concat([f1_stor_frm, f1_df], axis = 0)\n",
    "    return f1_stor_frm"
   ]
  },
  {
   "cell_type": "markdown",
   "id": "ee4596c7-3410-442d-9dd6-649b9511548a",
   "metadata": {
    "jp-MarkdownHeadingCollapsed": true
   },
   "source": [
    "## Logreg model-type plot - greyscale #2"
   ]
  },
  {
   "cell_type": "code",
   "execution_count": null,
   "id": "c0492ccb-fb37-4b16-9fe0-364e702f6a35",
   "metadata": {
    "scrolled": true
   },
   "outputs": [],
   "source": [
    "mode_ttl = 'model type'\n",
    "mode = 'model_type'\n",
    "f1_stor_frm = log_reg(dta_typ_obj, mode)\n",
    "sample_counts = dict(dta_typ_obj.model_type.value_counts())\n",
    "def logreg_model_plot(f1_stor_frm, mdls, dta_typ, latent_dim, epochs, mode):\n",
    "    plt.figure(figsize=(8, 4.5))\n",
    "    sns.set_style(\"whitegrid\")\n",
    "    sns.set(font_scale=1.5)\n",
    "    \n",
    "    sns.barplot(x='Label', y='F1_Score', data=f1_stor_frm, palette=['#666666', '#999999'],\n",
    "               errorbar=None)\n",
    "    sns.swarmplot(x='Label', y='F1_Score', data=f1_stor_frm, color='#333333', size=14)\n",
    "    \n",
    "    plt.suptitle('Logistic regression, '+mode_ttl+', '+dta_ttl,\n",
    "                 fontsize=24, y = 1.03)\n",
    "    plt.title(mdls_ttl+encdg_stts_ttl, fontsize=20)\n",
    "    plt.xlabel('Model Type', fontsize=20)\n",
    "    plt.ylabel('F1 Score', fontsize=20)\n",
    "\n",
    "    # Sample counts is global var\n",
    "    new_labels = [f\"{label}, n = {sample_counts[label]}\" for label in sample_counts.keys()]\n",
    "    plt.xticks(ticks=range(len(new_labels)), labels=new_labels, fontsize=20)\n",
    "    \n",
    "    plt.grid(color='grey', linestyle='-', linewidth=0.25, alpha=0.5)\n",
    "    plt.rcParams['text.usetex'] = True\n",
    "    plt.savefig(rslts_dir+'/log_reg_'+mode+'_'+dta_typ+'_'+encdg_stts_nam+'_'+v+'.png',\n",
    "                bbox_inches='tight')\n",
    "logreg_model_plot(f1_stor_frm, mdls, dta_typ, latent_dim, epochs, mode)"
   ]
  },
  {
   "cell_type": "markdown",
   "id": "3ae88f9a-36b2-4d81-a1b2-ae7d23e53727",
   "metadata": {
    "jp-MarkdownHeadingCollapsed": true
   },
   "source": [
    "## LogReg cancer-type plot - TCGA colors #3"
   ]
  },
  {
   "cell_type": "code",
   "execution_count": null,
   "id": "65b1fde0-c3c5-4c37-b56d-b5a4cc637899",
   "metadata": {
    "scrolled": true
   },
   "outputs": [],
   "source": [
    "mode_ttl = 'cancer type'\n",
    "mode = 'cancer_type'\n",
    "f1_stor_frm = log_reg(dta_typ_obj, mode)\n",
    "tcga_colors = pd.read_csv('plot_color_files/tcga_colors.tsv',\n",
    "                          sep = '\\t')\n",
    "tcga_color_mapping = dict(zip(tcga_colors['tcga_cohorts'], tcga_colors['cohort_color']))\n",
    "unique_labels = f1_stor_frm['Label'].unique()\n",
    "palette_dict = {}\n",
    "for label in unique_labels:\n",
    "    tcga_abbreviation = cancer_type_abbreviation_mapping.get(label)\n",
    "    color = tcga_color_mapping.get(tcga_abbreviation)\n",
    "    if color:\n",
    "        palette_dict[label] = color\n",
    "def lgrg_plt_fnc(f1_stor_frm, mdls, data_name, latent_dim, epochs, mode):\n",
    "    plt.figure(figsize=(8, 4))\n",
    "    sns.set_style(\"whitegrid\")\n",
    "\n",
    "    ax = sns.barplot(\n",
    "        x='Label', y='F1_Score', data=f1_stor_frm,\n",
    "        palette=palette_dict,\n",
    "        errorbar=None)\n",
    "    sns.swarmplot(x='Label', y='F1_Score', data=f1_stor_frm,\n",
    "                  color='#333333', size=7)\n",
    "    \n",
    "    plt.suptitle('Logistic regression, '+mode_ttl+', '+dta_ttl,\n",
    "             fontsize=24, y = 1.04)\n",
    "    plt.title(mdls_ttl, fontsize=20)\n",
    "    plt.xlabel('Cancer type', fontsize=20)\n",
    "    plt.ylabel('F1 Score', fontsize=20)\n",
    "    \n",
    "    plt.xticks(rotation=45, ha = 'right', fontsize = 16)\n",
    "    plt.grid(color='grey', linestyle='-', linewidth=0.25, alpha=0.5)\n",
    "    plt.rcParams['text.usetex'] = True\n",
    "    plt.savefig(rslts_dir+'/log_reg_'+mode+'_'+dta_typ+'_'+v+'.png',\n",
    "                bbox_inches='tight')\n",
    "lgrg_plt_fnc(f1_stor_frm, mdls, dta_typ, latent_dim, epochs, mode)    "
   ]
  },
  {
   "cell_type": "markdown",
   "id": "160e307f-0b4d-46a2-8fe5-d8346054e8a0",
   "metadata": {
    "jp-MarkdownHeadingCollapsed": true
   },
   "source": [
    "## Euclidean setup, #4 & 5"
   ]
  },
  {
   "cell_type": "code",
   "execution_count": null,
   "id": "089c442a-a106-43b4-b5d8-157c59162884",
   "metadata": {},
   "outputs": [],
   "source": [
    "# Euclicean distance, model type\n",
    "def mdl_typ_dist(sample, features, df):\n",
    "    other_types = df[df['model_type'] != sample['model_type']]\n",
    "    mean_features_other_types = other_types[features].mean()\n",
    "    distance = euclidean(sample[features], mean_features_other_types)\n",
    "    return distance"
   ]
  },
  {
   "cell_type": "code",
   "execution_count": null,
   "id": "25fd52ba-a608-42a5-9689-7732b21df674",
   "metadata": {},
   "outputs": [],
   "source": [
    "# Euclidean distance, cancer type\n",
    "def cncr_typ_dist(sample, features, df):\n",
    "    other_types = df[df['cancer_type'] != sample['cancer_type']]\n",
    "    mean_features_other_types = other_types[features].mean()\n",
    "    distance = euclidean(sample[features], mean_features_other_types)\n",
    "    return distance"
   ]
  },
  {
   "cell_type": "code",
   "execution_count": null,
   "id": "19b3fbfa-28dc-4b92-8122-65f988193f7d",
   "metadata": {},
   "outputs": [],
   "source": [
    "dta_typ_obj = pd.read_csv('data/'+file,\n",
    "                   sep = '\\t', index_col = 0)\n",
    "feature_columns = dta_typ_obj.columns[2:]\n",
    "dta_typ_obj['mdl_typ_dstncs'] = dta_typ_obj.apply(\n",
    "    lambda row: mdl_typ_dist(row, feature_columns, dta_typ_obj), axis=1)\n",
    "dta_typ_obj['cncr_typ_dstncs'] = dta_typ_obj.apply(\n",
    "    lambda row: cncr_typ_dist(row, feature_columns, dta_typ_obj), axis=1)\n",
    "new_cols = ['cancer_type', 'model_type', 'cncr_typ_dstncs', 'mdl_typ_dstncs'] + list(feature_columns)\n",
    "dta_typ_obj = dta_typ_obj[new_cols]"
   ]
  },
  {
   "cell_type": "markdown",
   "id": "ef57b81e-fda1-4321-a302-0397c6fd28b1",
   "metadata": {
    "jp-MarkdownHeadingCollapsed": true
   },
   "source": [
    "## Eucldn Colrs, #4"
   ]
  },
  {
   "cell_type": "code",
   "execution_count": null,
   "id": "b5c21b54-3b15-4930-a9e2-0e8249a5d68a",
   "metadata": {},
   "outputs": [],
   "source": [
    "mode_ttl = 'cancer type'\n",
    "mode = 'cancer_type'\n",
    "dstnc_typ = 'cncr_typ_dstncs'\n",
    "average_distances = dta_typ_obj.groupby(\n",
    "    mode)[dstnc_typ].mean().sort_values(ascending=False)\n",
    "sorted_df = dta_typ_obj.loc[dta_typ_obj[mode].isin(average_distances.index)]\n",
    "sorted_df[mode] = pd.Categorical(\n",
    "    sorted_df[mode], categories=average_distances.index, ordered=True)\n",
    "sorted_df = sorted_df.sort_values(mode)\n",
    "tcga_colors = pd.read_csv('plot_color_files/tcga_colors.tsv', sep = '\\t', index_col = 0)\n",
    "custom_color_list = [tcga_colors.loc[cancer_type_abbreviation_mapping[cancer_type],'cohort_color'] for cancer_type in average_distances.index]\n",
    "custom_colormap = ListedColormap(custom_color_list)"
   ]
  },
  {
   "cell_type": "code",
   "execution_count": null,
   "id": "05b10669-d1f3-4c61-939f-ffa9f87fef77",
   "metadata": {},
   "outputs": [],
   "source": [
    "y_values = np.linspace(0.75, 0.068, 7)\n",
    "plt.figure()\n",
    "joyplot(data=sorted_df[[mode, dstnc_typ]], by=mode,\n",
    "    figsize=(10, 6.5), colormap=custom_colormap,\n",
    "    fade=True)\n",
    "\n",
    "for y_value, cancer_type in zip(y_values, sorted_df[mode].unique()):\n",
    "    count = dict(sorted_df[mode].value_counts())[cancer_type]\n",
    "    x_position = sorted_df[dstnc_typ].max()\n",
    "    plt.annotate(f\"n={count}\", xy=(x_position, y_value), verticalalignment='center')\n",
    "\n",
    "plt.suptitle('Euclidean Distances, '+mode_ttl+', '+dta_ttl,\n",
    "             fontsize=30, y = 1.01)\n",
    "plt.title(mdls_ttl+ ', n = '+str(dta_typ_obj.shape[0])+encdg_stts_ttl,\n",
    "          y = .92, x = .22, fontsize = 26)\n",
    "\n",
    "plt.rcParams['text.usetex'] = True\n",
    "\n",
    "plt.annotate(\n",
    "    r'Variance of means: $\\mathbf{' + f'{average_distances.var():.3f}' + '}$',\n",
    "    xy=(0.01, 0.87), xycoords='axes fraction',\n",
    "    ha='right', va='top')\n",
    "\n",
    "plt.savefig(rslts_dir+'/euc-rdgln_'+mode+'_'+mdls+'_'+dta_typ+'_'+v+'.png',\n",
    "            bbox_inches = 'tight', dpi = 300)"
   ]
  },
  {
   "cell_type": "markdown",
   "id": "803f2604-9af4-4831-9348-4f540b3a0c27",
   "metadata": {},
   "source": [
    "## Eucldn Gry, #5"
   ]
  },
  {
   "cell_type": "markdown",
   "id": "68652515-f5e5-4e4b-b869-4b5c3788cbff",
   "metadata": {
    "jp-MarkdownHeadingCollapsed": true
   },
   "source": [
    "### Build grey Euc ridge obj"
   ]
  },
  {
   "cell_type": "code",
   "execution_count": null,
   "id": "284b310d-b91f-480d-adde-b31a5aa633ce",
   "metadata": {},
   "outputs": [],
   "source": [
    "mode_ttl = 'model type'\n",
    "mode = 'model_type'\n",
    "dstnc_typ = 'mdl_typ_dstncs'\n",
    "\n",
    "abbreviation_mapping = {\n",
    "    'cell line': 'cell line',\n",
    "    'Tumor': 'Tumor',\n",
    "    'HCMI': 'HCMI', # devel\n",
    "}\n",
    "\n",
    "average_distances = dta_typ_obj.groupby(\n",
    "    mode)[dstnc_typ].mean().sort_values(ascending=False)\n",
    "sorted_df = dta_typ_obj.loc[dta_typ_obj[mode].isin(average_distances.index)]\n",
    "sorted_df[mode] = pd.Categorical(\n",
    "    sorted_df[mode], categories=average_distances.index, ordered=True)\n",
    "sorted_df = sorted_df.sort_values(mode)\n",
    "custom_color_list = [grey_colors.loc[\n",
    "                     abbreviation_mapping[\n",
    "                     model_type],'quant_mode_color'] for model_type in average_distances.index]\n",
    "custom_colormap = ListedColormap(custom_color_list)"
   ]
  },
  {
   "cell_type": "markdown",
   "id": "f9338b2e-1e31-4680-8b51-cea06ab17e80",
   "metadata": {
    "jp-MarkdownHeadingCollapsed": true
   },
   "source": [
    "### Euc ridge grey plot"
   ]
  },
  {
   "cell_type": "code",
   "execution_count": null,
   "id": "0c82df23-4f44-406e-88e1-8ba9bb2bd756",
   "metadata": {},
   "outputs": [],
   "source": [
    "y_values = np.linspace(0.52, 0.15, 2)\n",
    "plt.figure()\n",
    "joyplot(data=sorted_df[[mode, dstnc_typ]], by=mode,\n",
    "    figsize=(10, 6.5), colormap=custom_colormap,\n",
    "    fade=True)\n",
    "\n",
    "for y_value, cancer_type in zip(y_values, sorted_df[mode].unique()):\n",
    "    count = dict(sorted_df[mode].value_counts())[cancer_type]\n",
    "    x_position = sorted_df[dstnc_typ].max()\n",
    "    plt.annotate(f\"n={count}\", xy=(x_position, y_value), verticalalignment='center', fontsize = 24)\n",
    "\n",
    "plt.suptitle('Euclidean Distances, '+mode_ttl+', '+dta_ttl,\n",
    "             fontsize=30, y = 1.06)\n",
    "plt.title(mdls_ttl+ ', n = '+str(dta_typ_obj.shape[0])+encdg_stts_ttl,\n",
    "          y = .97, x = .4, fontsize = 26)\n",
    "\n",
    "plt.rcParams['text.usetex'] = True\n",
    "\n",
    "plt.annotate(\n",
    "    r'Variance of means: $\\mathbf{' + f'{average_distances.var():.3f}' + '}$',\n",
    "    xy=(0.2, 0.87), xycoords='axes fraction',\n",
    "    ha='right', va='top')\n",
    "\n",
    "plt.savefig(rslts_dir+'/euc-rdgln_'+mode+'_'+mdls+'_'+dta_typ+'_'+v+'.png',\n",
    "            bbox_inches = 'tight', dpi = 300)"
   ]
  }
 ],
 "metadata": {
  "kernelspec": {
   "display_name": "Python 3 (ipykernel)",
   "language": "python",
   "name": "python3"
  },
  "language_info": {
   "codemirror_mode": {
    "name": "ipython",
    "version": 3
   },
   "file_extension": ".py",
   "mimetype": "text/x-python",
   "name": "python",
   "nbconvert_exporter": "python",
   "pygments_lexer": "ipython3",
   "version": "3.10.8"
  }
 },
 "nbformat": 4,
 "nbformat_minor": 5
}
