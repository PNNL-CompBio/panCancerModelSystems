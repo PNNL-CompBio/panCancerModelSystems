{
 "cells": [
  {
   "cell_type": "markdown",
   "id": "b8d79e1e-c508-4d9f-bd1b-d4cb25b4776c",
   "metadata": {},
   "source": [
    "### UMAP gene set dimensionality reduction"
   ]
  },
  {
   "cell_type": "code",
   "execution_count": 1,
   "id": "49ec186c-ca91-4125-8d07-ee73e9eb401c",
   "metadata": {
    "tags": []
   },
   "outputs": [
    {
     "data": {
      "text/plain": [
       "'/Users/karlberb/Documents/work/Improve_data_files/data_may_23'"
      ]
     },
     "execution_count": 1,
     "metadata": {},
     "output_type": "execute_result"
    }
   ],
   "source": [
    "# Projection dimensions of 50, 100, 150\n",
    "# dim = 10, 25; v1.1\n",
    "# To binary and multi-class transformer"
   ]
  },
  {
   "cell_type": "code",
   "execution_count": 1,
   "id": "39f946ff-c036-4454-b484-e52405330cc0",
   "metadata": {
    "tags": []
   },
   "outputs": [],
   "source": [
    "import numpy as np\n",
    "import pandas as pd\n",
    "from sklearn.preprocessing import StandardScaler\n",
    "import umap"
   ]
  },
  {
   "cell_type": "code",
   "execution_count": 2,
   "id": "90c693a7-b8fc-4de2-94a2-1f2f4b23f0f9",
   "metadata": {
    "tags": []
   },
   "outputs": [],
   "source": [
    "rdcr_inpt =  pd.read_csv('AUC_v1/exprsn_dot_T.tsv',\n",
    "            sep = '\\t', index_col = 0)"
   ]
  },
  {
   "cell_type": "code",
   "execution_count": 3,
   "id": "987350e3-37ea-46c5-afcd-c48a224105f8",
   "metadata": {
    "tags": []
   },
   "outputs": [],
   "source": [
    "scaled_data = StandardScaler().fit_transform(rdcr_inpt.values)"
   ]
  },
  {
   "cell_type": "code",
   "execution_count": 4,
   "id": "54969d4d-238d-4190-9388-cb88fd2acd02",
   "metadata": {
    "tags": []
   },
   "outputs": [
    {
     "name": "stdout",
     "output_type": "stream",
     "text": [
      "10\n"
     ]
    },
    {
     "name": "stderr",
     "output_type": "stream",
     "text": [
      "OMP: Info #276: omp_set_nested routine deprecated, please use omp_set_max_active_levels instead.\n"
     ]
    },
    {
     "name": "stdout",
     "output_type": "stream",
     "text": [
      "25\n"
     ]
    }
   ],
   "source": [
    "# comp_lst = [50, 100, 150] # v1\n",
    "comp_lst = [10, 25] # v1.1\n",
    "for n_comps in comp_lst:\n",
    "    print(n_comps)\n",
    "    reducer = umap.UMAP(n_components = n_comps)\n",
    "    embedding = reducer.fit_transform(scaled_data)\n",
    "    write_out = pd.DataFrame(embedding, index = rdcr_inpt.index)\n",
    "    write_out.to_csv(\n",
    "        'AUC_v1/UMAP_expr_'+str(n_comps)+'.tsv',\n",
    "        sep = '\\t',\n",
    "         )"
   ]
  },
  {
   "cell_type": "code",
   "execution_count": null,
   "id": "f29030a6-a894-4cf5-b4f7-1a5af1700d70",
   "metadata": {},
   "outputs": [],
   "source": []
  }
 ],
 "metadata": {
  "kernelspec": {
   "display_name": "Python 3 (ipykernel)",
   "language": "python",
   "name": "python3"
  },
  "language_info": {
   "codemirror_mode": {
    "name": "ipython",
    "version": 3
   },
   "file_extension": ".py",
   "mimetype": "text/x-python",
   "name": "python",
   "nbconvert_exporter": "python",
   "pygments_lexer": "ipython3",
   "version": "3.9.13"
  }
 },
 "nbformat": 4,
 "nbformat_minor": 5
}
