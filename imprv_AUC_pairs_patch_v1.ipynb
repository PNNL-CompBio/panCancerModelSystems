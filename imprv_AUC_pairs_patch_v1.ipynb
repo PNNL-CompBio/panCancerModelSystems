{
 "cells": [
  {
   "cell_type": "code",
   "execution_count": null,
   "id": "4f1f2d31-1acd-43cf-bc2a-56d767b3f7ae",
   "metadata": {},
   "outputs": [],
   "source": [
    "# Drop duplicates for canSMILES mapping to multiple drug IDs"
   ]
  },
  {
   "cell_type": "code",
   "execution_count": null,
   "id": "289cd06b-64b4-4d64-9edc-a8d65ede6856",
   "metadata": {},
   "outputs": [],
   "source": [
    "import pandas as pd"
   ]
  },
  {
   "cell_type": "code",
   "execution_count": null,
   "id": "6cef22f9-a540-4008-9530-ebb3db84b01b",
   "metadata": {},
   "outputs": [],
   "source": [
    "def get_pairs(row):\n",
    "    return str(row['improve_sample_id']) + '_' + row['canSMILES']"
   ]
  },
  {
   "cell_type": "markdown",
   "id": "fa9a60db-49d5-4196-9a1b-d82606891323",
   "metadata": {},
   "source": [
    "### Binary"
   ]
  },
  {
   "cell_type": "code",
   "execution_count": null,
   "id": "3d7905af-8867-4e6e-a16f-9a7eb7596428",
   "metadata": {},
   "outputs": [],
   "source": [
    "binary = pd.read_csv(\n",
    "    'AUC_v1/inner_join_AUC_binary.tsv', sep = '\\t',\n",
    "    index_col = 0)"
   ]
  },
  {
   "cell_type": "code",
   "execution_count": null,
   "id": "12585ea7-c0ee-4a7e-b740-0d2bbbda63b2",
   "metadata": {},
   "outputs": [],
   "source": [
    "binary['pairs'] = binary.apply(get_pairs, axis=1)"
   ]
  },
  {
   "cell_type": "code",
   "execution_count": null,
   "id": "f07786f7-a127-4ac6-8c62-c8572e41ed2d",
   "metadata": {},
   "outputs": [],
   "source": [
    "binary = binary.drop_duplicates(subset='pairs')"
   ]
  },
  {
   "cell_type": "code",
   "execution_count": null,
   "id": "83f0fd92-d108-4c3a-81dd-cb4bd84debd0",
   "metadata": {},
   "outputs": [],
   "source": [
    "binary.to_csv('AUC_v1/AUC_binary_unq_pairs.tsv', sep = '\\t')"
   ]
  },
  {
   "cell_type": "markdown",
   "id": "e23476d5-2b29-456d-8afd-59610184d3b5",
   "metadata": {},
   "source": [
    "### Ternary"
   ]
  },
  {
   "cell_type": "code",
   "execution_count": null,
   "id": "f371daee-b73d-4673-8a6a-b290ed6fcddc",
   "metadata": {},
   "outputs": [],
   "source": [
    "trinary = pd.read_csv(\n",
    "    'AUC_v1/inner_join_AUC_trinary.tsv', sep = '\\t',\n",
    "    index_col = 0)"
   ]
  },
  {
   "cell_type": "code",
   "execution_count": null,
   "id": "c28eab1c-7598-4471-a5ad-c92f05865891",
   "metadata": {},
   "outputs": [],
   "source": [
    "trinary['pairs'] = trinary.apply(get_pairs, axis=1)"
   ]
  },
  {
   "cell_type": "code",
   "execution_count": null,
   "id": "1db47676-bf1d-444b-a863-f1f2966923d3",
   "metadata": {},
   "outputs": [],
   "source": [
    "trinary = trinary.drop_duplicates(subset='pairs')"
   ]
  },
  {
   "cell_type": "code",
   "execution_count": null,
   "id": "96ea8177-ef07-463a-83c5-387a907c6eef",
   "metadata": {},
   "outputs": [],
   "source": [
    "# file name change to match schematic\n",
    "trinary.to_csv('AUC_v1/AUC_ternary_unq_pairs.tsv', sep = '\\t')"
   ]
  },
  {
   "cell_type": "code",
   "execution_count": null,
   "id": "b9e35be5-9c42-4f90-b56c-021eaa5f63bb",
   "metadata": {},
   "outputs": [],
   "source": [
    "# v1.1 checks - confirmed ung pairs read-in, transformer"
   ]
  }
 ],
 "metadata": {
  "kernelspec": {
   "display_name": "Python 3 (ipykernel)",
   "language": "python",
   "name": "python3"
  },
  "language_info": {
   "codemirror_mode": {
    "name": "ipython",
    "version": 3
   },
   "file_extension": ".py",
   "mimetype": "text/x-python",
   "name": "python",
   "nbconvert_exporter": "python",
   "pygments_lexer": "ipython3",
   "version": "3.9.13"
  }
 },
 "nbformat": 4,
 "nbformat_minor": 5
}
