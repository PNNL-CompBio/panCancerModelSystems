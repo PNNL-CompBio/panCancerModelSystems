{
 "cells": [
  {
   "cell_type": "markdown",
   "id": "e545eb1e-594a-4555-8005-e36a28d7ce64",
   "metadata": {
    "tags": []
   },
   "source": [
    "### Experiment goals\n",
    "Determine features that differentiate across:  \n",
    "    1) Data types  \n",
    "    2) Cancer model types  \n",
    "    3) Tissues-of-origin (Cancer Types)  "
   ]
  },
  {
   "cell_type": "raw",
   "id": "850fb4cf-a663-4a2b-b310-df8ee9b711e2",
   "metadata": {},
   "source": [
    "# link to repo:\n",
    "https://github.com/PNNL-CompBio/panCancerModelSystems/tree/main\n",
    "\n",
    "# link to model template\n",
    "https://keras.io/examples/structured_data/tabtransformer/"
   ]
  },
  {
   "cell_type": "raw",
   "id": "727688f4-b6da-4115-9752-14304f8bccd6",
   "metadata": {},
   "source": [
    "conda activate transformer_env"
   ]
  },
  {
   "cell_type": "code",
   "execution_count": null,
   "id": "575f4f81-bde4-445e-be7c-6ca610efa009",
   "metadata": {},
   "outputs": [],
   "source": [
    "# This notebook:\n",
    "    # write averaged and transposed expression file to disk\n",
    "        # for read-in by 3 feature selection methods\n",
    "    # write binary and ternary response objects to disk\n",
    "\n",
    "# Update - pairs patch code file removes duplicates for canSMILES that map\n",
    "# to multiple drug ids"
   ]
  },
  {
   "cell_type": "markdown",
   "id": "1daa72d3-31e8-4cda-b7d4-145b1b6769db",
   "metadata": {
    "tags": []
   },
   "source": [
    "### Imports"
   ]
  },
  {
   "cell_type": "code",
   "execution_count": 16,
   "id": "037a88a7-def5-49d3-a9cd-b4084ec5f602",
   "metadata": {
    "tags": []
   },
   "outputs": [],
   "source": [
    "import math\n",
    "import numpy as np\n",
    "import pandas as pd\n",
    "# import tensorflow as tf\n",
    "# from tensorflow import keras\n",
    "# from tensorflow.keras import layers\n",
    "# import tensorflow_addons as tfa\n",
    "import matplotlib.pyplot as plt\n",
    "import collections"
   ]
  },
  {
   "cell_type": "code",
   "execution_count": 14,
   "id": "c6064e86-5f8e-476d-96f3-aee859c86e5b",
   "metadata": {
    "tags": []
   },
   "outputs": [
    {
     "name": "stdout",
     "output_type": "stream",
     "text": [
      "copy_number.csv.gz  drugs.tsv.gz        experiments.tsv.gz  expression.csv.gz\n"
     ]
    }
   ],
   "source": [
    "ls *.gz"
   ]
  },
  {
   "cell_type": "code",
   "execution_count": 15,
   "id": "f22bf837-7b5e-4bc6-9478-4a68391ff585",
   "metadata": {
    "tags": []
   },
   "outputs": [
    {
     "name": "stdout",
     "output_type": "stream",
     "text": [
      "genes.csv       mutations.csv   samples.csv     test_data.csv   train_data.csv\n"
     ]
    }
   ],
   "source": [
    "ls *.csv"
   ]
  },
  {
   "cell_type": "markdown",
   "id": "f7970907-f7a1-434e-a004-9af3b4b8b495",
   "metadata": {
    "tags": []
   },
   "source": [
    "### Average counts for duplicate genes"
   ]
  },
  {
   "cell_type": "code",
   "execution_count": null,
   "id": "8da48031-ca7d-4528-a109-5974686ac8e3",
   "metadata": {},
   "outputs": [],
   "source": [
    "# Send to diff, UMAP, and VAE feature methods after averaging"
   ]
  },
  {
   "cell_type": "code",
   "execution_count": 12,
   "id": "0b29413d-a6ce-4f56-8f6f-a9dc4ba9ab29",
   "metadata": {
    "tags": []
   },
   "outputs": [],
   "source": [
    "exp_df = pd.read_csv('expression.csv.gz')\n",
    "exp_df_lite = exp_df.iloc[:, :3] # remove study and source cols\n",
    "del(exp_df)"
   ]
  },
  {
   "cell_type": "code",
   "execution_count": null,
   "id": "4de9af1c-8016-40b7-aede-83bad0685377",
   "metadata": {
    "tags": []
   },
   "outputs": [],
   "source": [
    "# Average expression values of duplicate genes\n",
    "# within each improve sample\n",
    "# Run time is about 6 - 7 minutes\n",
    "# Result is removal of ~1.3M genes, ~5% of file\n",
    "\n",
    "# List for each new column\n",
    "e_lst = []\n",
    "i_lst = []\n",
    "c_lst = []\n",
    "\n",
    "# Improve sample loop, 1007 total\n",
    "for smp_id in exp_df_lite.improve_sample_id.unique():\n",
    "    sub = exp_df_lite[exp_df_lite.improve_sample_id == smp_id]\n",
    "    single_list = [] # only populate with gene id if unique occurance\n",
    "    for index, value in sub.entrez_id.value_counts().items():\n",
    "        \n",
    "        if value > 1:\n",
    "\n",
    "            sub_sub = sub[sub.entrez_id == index]\n",
    "            e_lst.append(index)\n",
    "            i_lst.append(smp_id)\n",
    "            c_lst.append(sub_sub.counts.mean())\n",
    "        else:\n",
    "            single_list.append(index) # only add single expression count below\n",
    "                                      # if averaged counts list not modded above\n",
    "    c_lst = c_lst + list(sub[sub.entrez_id.isin(single_list)].counts)\n",
    "    i_lst = i_lst + list(sub[sub.entrez_id.isin(single_list)].improve_sample_id)\n",
    "    e_lst = e_lst + list(sub[sub.entrez_id.isin(single_list)].entrez_id)\n",
    "exp_avrgd = pd.DataFrame({'entrez_id': e_lst, 'improve_sample_id': i_lst, 'counts': c_lst})"
   ]
  },
  {
   "cell_type": "code",
   "execution_count": 119,
   "id": "f7fe88e8-972e-487f-b659-3ef05bb44b2c",
   "metadata": {
    "tags": []
   },
   "outputs": [],
   "source": [
    "exp_avrgd.to_csv('disk_chkpnts_tssue/exp_avrgd.tsv', sep = '\\t')"
   ]
  },
  {
   "cell_type": "code",
   "execution_count": 17,
   "id": "41fa68e0-c9b8-4271-bee3-b4ad968bb7e9",
   "metadata": {
    "tags": []
   },
   "outputs": [],
   "source": [
    "# Checkpoint\n",
    "exp_avrgd = pd.read_csv('disk_chkpnts_tssue/exp_avrgd.tsv', sep = '\\t', index_col = 0)"
   ]
  },
  {
   "cell_type": "markdown",
   "id": "95eec0bf-5ef1-42f5-b938-430f55f58af4",
   "metadata": {
    "tags": []
   },
   "source": [
    "### Intersection of genes across IMPROVE samples"
   ]
  },
  {
   "cell_type": "code",
   "execution_count": 19,
   "id": "591dbd79-1c71-4445-924d-7e3cfc4669f9",
   "metadata": {
    "tags": []
   },
   "outputs": [],
   "source": [
    "gene_vectors = []\n",
    "for smp_id in exp_avrgd.improve_sample_id.unique():\n",
    "    sub = exp_avrgd[exp_avrgd.improve_sample_id == smp_id]\n",
    "    sub_gene_list = list(sub.entrez_id)\n",
    "    gene_vectors.append(sub_gene_list)"
   ]
  },
  {
   "cell_type": "code",
   "execution_count": 20,
   "id": "e2013617-261c-4ce1-ae43-dedce1005ace",
   "metadata": {
    "tags": []
   },
   "outputs": [],
   "source": [
    "ntrsct = set.intersection(*map(set,gene_vectors))"
   ]
  },
  {
   "cell_type": "code",
   "execution_count": 21,
   "id": "49db095a-9376-4e12-abb1-f494a9c2f1b9",
   "metadata": {
    "tags": []
   },
   "outputs": [
    {
     "data": {
      "text/plain": [
       "30888"
      ]
     },
     "execution_count": 21,
     "metadata": {},
     "output_type": "execute_result"
    }
   ],
   "source": [
    "len(ntrsct)"
   ]
  },
  {
   "cell_type": "markdown",
   "id": "d5820fa0-7213-4cf5-88db-98ca22a59c0f",
   "metadata": {
    "tags": []
   },
   "source": [
    "### Transpose into IMPROVE samples x genes"
   ]
  },
  {
   "cell_type": "code",
   "execution_count": 22,
   "id": "adc84e37-7e98-4b92-a183-52deeb9bb331",
   "metadata": {
    "tags": []
   },
   "outputs": [],
   "source": [
    "exprsn_dot_T = pd.DataFrame()\n",
    "for smp_id in exp_avrgd.improve_sample_id.unique():\n",
    "    sub = exp_avrgd[exp_avrgd.improve_sample_id == smp_id]\n",
    "    transposed_df = sub.pivot(\n",
    "        index='improve_sample_id',\n",
    "        columns='entrez_id',\n",
    "        values='counts')\n",
    "    exprsn_dot_T = pd.concat([exprsn_dot_T, transposed_df])"
   ]
  },
  {
   "cell_type": "code",
   "execution_count": 28,
   "id": "e6e2b7d0-9d73-4376-9632-79e975e02446",
   "metadata": {
    "tags": []
   },
   "outputs": [],
   "source": [
    "exprsn_dot_T.to_csv('AUC_v1/exprsn_dot_T.tsv',\n",
    "                  sep = '\\t')\n",
    "# To three feature selection methods"
   ]
  },
  {
   "cell_type": "markdown",
   "id": "f74cd005-5191-4ff6-8d2f-7524508d49c2",
   "metadata": {
    "tags": []
   },
   "source": [
    "### Build summary AUC inner join object"
   ]
  },
  {
   "cell_type": "code",
   "execution_count": 25,
   "id": "e7547be7-7fac-4862-a10c-1104c41f804d",
   "metadata": {
    "tags": []
   },
   "outputs": [],
   "source": [
    "xpr_df = pd.read_csv('experiments.tsv.gz', sep = '\\t')\n",
    "xpr_auc = xpr_df[['improve_sample_id', 'improve_drug_id', 'AUC']].copy()\n",
    "xpr_check = xpr_auc[['improve_sample_id', 'improve_drug_id']].copy()\n",
    "xpr_check.drop_duplicates(inplace = True)\n",
    "unq_pairs = xpr_auc[xpr_auc.index.isin(xpr_check.index)]"
   ]
  },
  {
   "cell_type": "code",
   "execution_count": 24,
   "id": "029df348-85e0-484b-94f8-5fc3a5f696d0",
   "metadata": {
    "tags": []
   },
   "outputs": [],
   "source": [
    "drg_df = pd.read_csv('drugs.tsv.gz', sep = '\\t')\n",
    "drg_canSMI = drg_df[['canSMILES', 'improve_drug_id']].copy()\n",
    "drg_canSMI.dropna(inplace=True)\n",
    "drg_canSMI.drop_duplicates(inplace = True)"
   ]
  },
  {
   "cell_type": "code",
   "execution_count": 26,
   "id": "12edc17a-1253-43b5-a8bc-a4c4f0c04fcb",
   "metadata": {
    "tags": []
   },
   "outputs": [],
   "source": [
    "inner_join_AUC = unq_pairs.merge(drg_canSMI, how=\"inner\", on=\"improve_drug_id\")"
   ]
  },
  {
   "cell_type": "code",
   "execution_count": 29,
   "id": "e91d6b55-c981-448b-bc64-7dc52e862e42",
   "metadata": {
    "tags": []
   },
   "outputs": [],
   "source": [
    "inner_join_AUC.to_csv('AUC_v1/inner_join_AUC.tsv', sep = '\\t')"
   ]
  },
  {
   "cell_type": "markdown",
   "id": "00c17e1f-764e-40ed-a41a-9b7880722f05",
   "metadata": {},
   "source": [
    "### Binarize and trinarize the response scores"
   ]
  },
  {
   "cell_type": "code",
   "execution_count": 63,
   "id": "b561a523-6473-4575-970a-c8d2cb77dabb",
   "metadata": {
    "tags": []
   },
   "outputs": [],
   "source": [
    "inner_join_AUC = pd.read_csv('AUC_v1/inner_join_AUC.tsv',\n",
    "                            sep = '\\t',\n",
    "                            index_col = 0)"
   ]
  },
  {
   "cell_type": "code",
   "execution_count": 64,
   "id": "93cf94ed-86fe-4362-9a8e-e572ba3bc270",
   "metadata": {
    "tags": []
   },
   "outputs": [],
   "source": [
    "inner_join_AUC.rename(\n",
    "    columns={col: str(col) for col in inner_join_AUC.columns}, inplace=True)"
   ]
  },
  {
   "cell_type": "code",
   "execution_count": 65,
   "id": "c7a839f2-6f25-453d-9c2e-c16e0ff20ec0",
   "metadata": {
    "tags": []
   },
   "outputs": [],
   "source": [
    "del inner_join_AUC['improve_drug_id']"
   ]
  },
  {
   "cell_type": "code",
   "execution_count": 46,
   "id": "28e0fdec-7704-41b0-a28b-153bfd7e3174",
   "metadata": {
    "tags": []
   },
   "outputs": [
    {
     "data": {
      "text/plain": [
       "Text(0.5, 1.0, 'AUC, merged PhrmGx drg rspns')"
      ]
     },
     "execution_count": 46,
     "metadata": {},
     "output_type": "execute_result"
    },
    {
     "data": {
      "image/png": "[encoded data removed]",
      "text/plain": [
       "<Figure size 640x480 with 1 Axes>"
      ]
     },
     "metadata": {},
     "output_type": "display_data"
    }
   ],
   "source": [
    "plt.hist(inner_join_AUC.AUC, bins = 800)\n",
    "plt.title('AUC, merged PhrmGx drg rspns')"
   ]
  },
  {
   "cell_type": "code",
   "execution_count": 66,
   "id": "824a2ce5-6918-43e7-918c-9da9454b4fc6",
   "metadata": {
    "tags": []
   },
   "outputs": [],
   "source": [
    "inner_join_AUC = inner_join_AUC[inner_join_AUC['AUC'].between(0, 1)]"
   ]
  },
  {
   "cell_type": "code",
   "execution_count": 48,
   "id": "773a9bd6-38c8-4d30-bdd5-8083f146cc85",
   "metadata": {
    "tags": []
   },
   "outputs": [
    {
     "data": {
      "text/plain": [
       "Text(0.5, 1.0, 'AUC, merged PhrmGx drg rspns')"
      ]
     },
     "execution_count": 48,
     "metadata": {},
     "output_type": "execute_result"
    },
    {
     "data": {
      "image/png": "[encoded data removed]",
      "text/plain": [
       "<Figure size 640x480 with 1 Axes>"
      ]
     },
     "metadata": {},
     "output_type": "display_data"
    }
   ],
   "source": [
    "plt.hist(inner_join_AUC.AUC, bins = 800)\n",
    "plt.title('AUC, merged PhrmGx drg rspns')"
   ]
  },
  {
   "cell_type": "code",
   "execution_count": 51,
   "id": "c0a3bce5-204f-46a0-827e-884bafe8882d",
   "metadata": {
    "tags": []
   },
   "outputs": [
    {
     "data": {
      "text/plain": [
       "0.0"
      ]
     },
     "execution_count": 51,
     "metadata": {},
     "output_type": "execute_result"
    }
   ],
   "source": [
    "inner_join_AUC.AUC.min()"
   ]
  },
  {
   "cell_type": "code",
   "execution_count": 52,
   "id": "953ffa17-f73a-4fd7-b97a-62820b7a55ae",
   "metadata": {
    "tags": []
   },
   "outputs": [
    {
     "data": {
      "text/plain": [
       "1.0"
      ]
     },
     "execution_count": 52,
     "metadata": {},
     "output_type": "execute_result"
    }
   ],
   "source": [
    "inner_join_AUC.AUC.max()"
   ]
  },
  {
   "cell_type": "markdown",
   "id": "e83bd2ca-da0b-4a93-89d6-a959bfd4ecfd",
   "metadata": {
    "tags": []
   },
   "source": [
    "#### binarize"
   ]
  },
  {
   "cell_type": "code",
   "execution_count": 55,
   "id": "d0017bc6-d788-4547-b3f1-16c868a0271e",
   "metadata": {
    "tags": []
   },
   "outputs": [],
   "source": [
    "binary_list = []\n",
    "for auc in inner_join_AUC.AUC:\n",
    "    if auc > .95:\n",
    "        binary_list.append('high')\n",
    "    elif auc < .8:\n",
    "        binary_list.append('low')\n",
    "    else:\n",
    "        binary_list.append('delete')"
   ]
  },
  {
   "cell_type": "code",
   "execution_count": 59,
   "id": "aa347fc6-8459-4af9-b28a-c93bd0ba60a0",
   "metadata": {
    "tags": []
   },
   "outputs": [],
   "source": [
    "inner_join_AUC.AUC = binary_list"
   ]
  },
  {
   "cell_type": "code",
   "execution_count": 60,
   "id": "93745cd4-0ba4-4251-b41c-5dad465d4fd0",
   "metadata": {
    "tags": []
   },
   "outputs": [],
   "source": [
    "inner_join_AUC = inner_join_AUC[~inner_join_AUC.AUC.str.contains('delete')]"
   ]
  },
  {
   "cell_type": "code",
   "execution_count": 62,
   "id": "9129002c-d65c-4f86-ac2c-ae881fd9068d",
   "metadata": {
    "tags": []
   },
   "outputs": [],
   "source": [
    "inner_join_AUC.to_csv('AUC_v1/inner_join_AUC_binary.tsv', sep = '\\t')"
   ]
  },
  {
   "cell_type": "markdown",
   "id": "5529cdb0-7f2b-4d54-bb4e-13aa771fd634",
   "metadata": {},
   "source": [
    "#### trinarize"
   ]
  },
  {
   "cell_type": "code",
   "execution_count": 67,
   "id": "721e4c62-668e-43af-af05-f73d31ea74b9",
   "metadata": {
    "tags": []
   },
   "outputs": [],
   "source": [
    "trinary_list = []\n",
    "for auc in inner_join_AUC.AUC:\n",
    "    if auc > .95:\n",
    "        trinary_list.append('high')\n",
    "    elif auc < .5:\n",
    "        trinary_list.append('low')\n",
    "    else:\n",
    "        trinary_list.append('med')"
   ]
  },
  {
   "cell_type": "code",
   "execution_count": 68,
   "id": "37ac2694-79d4-42a2-b36e-74aee41dff95",
   "metadata": {
    "tags": []
   },
   "outputs": [],
   "source": [
    "inner_join_AUC.AUC = trinary_list"
   ]
  },
  {
   "cell_type": "code",
   "execution_count": 70,
   "id": "d103db97-c6ab-493f-ab4f-08e7295f6bdf",
   "metadata": {
    "tags": []
   },
   "outputs": [],
   "source": [
    "inner_join_AUC.to_csv('AUC_v1/inner_join_AUC_trinary.tsv', sep = '\\t')"
   ]
  },
  {
   "cell_type": "code",
   "execution_count": null,
   "id": "2a11bb24-794d-4b66-a6ea-30d002380524",
   "metadata": {},
   "outputs": [],
   "source": [
    "# To feature set merges on front-end of transformer"
   ]
  }
 ],
 "metadata": {
  "kernelspec": {
   "display_name": "Python 3 (ipykernel)",
   "language": "python",
   "name": "python3"
  },
  "language_info": {
   "codemirror_mode": {
    "name": "ipython",
    "version": 3
   },
   "file_extension": ".py",
   "mimetype": "text/x-python",
   "name": "python",
   "nbconvert_exporter": "python",
   "pygments_lexer": "ipython3",
   "version": "3.9.13"
  }
 },
 "nbformat": 4,
 "nbformat_minor": 5
}
