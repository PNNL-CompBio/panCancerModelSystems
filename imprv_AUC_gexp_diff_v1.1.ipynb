{
 "cells": [
  {
   "cell_type": "markdown",
   "id": "d705c35f-690e-4931-87f9-9cae40ae9bf8",
   "metadata": {
    "tags": []
   },
   "source": [
    "### Find max differentially expressed genes"
   ]
  },
  {
   "cell_type": "code",
   "execution_count": null,
   "id": "ea76d8b5-56d6-4a48-94e3-6bf632239551",
   "metadata": {},
   "outputs": [],
   "source": [
    "# Top 50, 100, 150 genes\n",
    "# To binary and multi-class transformer"
   ]
  },
  {
   "cell_type": "code",
   "execution_count": 1,
   "id": "42246fcc-0dae-4c1e-b03d-a48a762fdf8a",
   "metadata": {
    "tags": []
   },
   "outputs": [],
   "source": [
    "import pandas as pd"
   ]
  },
  {
   "cell_type": "code",
   "execution_count": 2,
   "id": "d403e009-4401-4359-bfcb-e974bb6fda02",
   "metadata": {
    "tags": []
   },
   "outputs": [],
   "source": [
    "exprsn_dot_T = pd.read_csv('AUC_v1/exprsn_dot_T.tsv',\n",
    "                  sep = '\\t', index_col = 0)"
   ]
  },
  {
   "cell_type": "code",
   "execution_count": 3,
   "id": "c70ece0f-d164-4312-969c-4b950da19974",
   "metadata": {
    "tags": []
   },
   "outputs": [],
   "source": [
    "# runtime ~2m\n",
    "dff_tup = [] # Tuples of gene ids and expression range\n",
    "for col_i in exprsn_dot_T:\n",
    "    dff_tup.append((col_i, exprsn_dot_T[col_i].max()-exprsn_dot_T[col_i].min()))\n",
    "    sorted_tuples = sorted(dff_tup, key=lambda x: x[1])"
   ]
  },
  {
   "cell_type": "code",
   "execution_count": 4,
   "id": "2bee6e6a-4840-4ba0-b60d-6b4cdf41a5d7",
   "metadata": {
    "tags": []
   },
   "outputs": [],
   "source": [
    "# thresholds = [50, 100, 150]\n",
    "thresholds = [10, 25] # v1.1"
   ]
  },
  {
   "cell_type": "code",
   "execution_count": 5,
   "id": "124868b6-f006-4e34-92d1-8879bbd1f0a7",
   "metadata": {
    "tags": []
   },
   "outputs": [
    {
     "name": "stdout",
     "output_type": "stream",
     "text": [
      "10\n",
      "25\n"
     ]
    }
   ],
   "source": [
    "for thrshld in thresholds:\n",
    "    print(thrshld)\n",
    "    columns_to_keep = [t[0] for t in sorted_tuples[-thrshld:]]\n",
    "    filtered_df = exprsn_dot_T[columns_to_keep]\n",
    "    filtered_df.to_csv(\n",
    "        'AUC_v1/max_diff_expr_'+str(thrshld)+'.tsv',\n",
    "        sep = '\\t',\n",
    "         )"
   ]
  },
  {
   "cell_type": "code",
   "execution_count": null,
   "id": "c98ff841-3be8-45d2-a521-85dc7a3495f8",
   "metadata": {},
   "outputs": [],
   "source": [
    "# To transformer read-in"
   ]
  }
 ],
 "metadata": {
  "kernelspec": {
   "display_name": "Python 3 (ipykernel)",
   "language": "python",
   "name": "python3"
  },
  "language_info": {
   "codemirror_mode": {
    "name": "ipython",
    "version": 3
   },
   "file_extension": ".py",
   "mimetype": "text/x-python",
   "name": "python",
   "nbconvert_exporter": "python",
   "pygments_lexer": "ipython3",
   "version": "3.9.13"
  }
 },
 "nbformat": 4,
 "nbformat_minor": 5
}
